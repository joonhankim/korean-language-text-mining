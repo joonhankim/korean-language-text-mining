{
 "cells": [
  {
   "cell_type": "code",
   "execution_count": 3,
   "metadata": {},
   "outputs": [],
   "source": [
    "import numpy as np\n",
    "import pandas as pd\n",
    "import re\n",
    "import konlpy"
   ]
  },
  {
   "cell_type": "code",
   "execution_count": 120,
   "metadata": {},
   "outputs": [],
   "source": [
    "#data load\n",
    "documnet=pd.read_csv(r\"C:\\Users\\eric\\Desktop\\news_data_2019_the_second_half(300).csv\",header=0,encoding = 'utf-8')"
   ]
  },
  {
   "cell_type": "code",
   "execution_count": 121,
   "metadata": {},
   "outputs": [
    {
     "data": {
      "text/html": [
       "<div>\n",
       "<style scoped>\n",
       "    .dataframe tbody tr th:only-of-type {\n",
       "        vertical-align: middle;\n",
       "    }\n",
       "\n",
       "    .dataframe tbody tr th {\n",
       "        vertical-align: top;\n",
       "    }\n",
       "\n",
       "    .dataframe thead th {\n",
       "        text-align: right;\n",
       "    }\n",
       "</style>\n",
       "<table border=\"1\" class=\"dataframe\">\n",
       "  <thead>\n",
       "    <tr style=\"text-align: right;\">\n",
       "      <th></th>\n",
       "      <th>headline</th>\n",
       "      <th>date</th>\n",
       "      <th>article</th>\n",
       "      <th>press</th>\n",
       "    </tr>\n",
       "  </thead>\n",
       "  <tbody>\n",
       "    <tr>\n",
       "      <th>0</th>\n",
       "      <td>출시 앞둔 갤노트10 영상 유출…베젤 얇아지고 이어폰 단자 사라져</td>\n",
       "      <td>20190701</td>\n",
       "      <td>삼성전자 8월7일 미국 뉴욕서 갤럭시노트10 공개 유튜버 테크토크TV 갤럭시노트10...</td>\n",
       "      <td>한국경제</td>\n",
       "    </tr>\n",
       "    <tr>\n",
       "      <th>1</th>\n",
       "      <td>브릴라이트 메인넷 구축 완료…게임 연동 착수</td>\n",
       "      <td>20190701</td>\n",
       "      <td>사전테스트 이후 정식 개관 암호화폐 지갑 ‘브링’도 공개 이데일리 노재웅 기자 한빛...</td>\n",
       "      <td>이데일리</td>\n",
       "    </tr>\n",
       "    <tr>\n",
       "      <th>2</th>\n",
       "      <td>5G 상용화 그 후 어디까지 왔을까 정부 확산 지표 발표</td>\n",
       "      <td>20190701</td>\n",
       "      <td>AI 스피커 400만대 스마트공장 7903개… “4차 산업혁명 추진 상황 국민과 함...</td>\n",
       "      <td>한국일보</td>\n",
       "    </tr>\n",
       "    <tr>\n",
       "      <th>3</th>\n",
       "      <td>켐트로닉스 Tx·Rx 양날개로 車·모바일 무선충전 공략 강화</td>\n",
       "      <td>20190701</td>\n",
       "      <td>켐트로닉스가 삼성전기 무선충전 사업 인수를 마무리하고 모바일 무선충전 사업 영역을 ...</td>\n",
       "      <td>전자신문</td>\n",
       "    </tr>\n",
       "    <tr>\n",
       "      <th>4</th>\n",
       "      <td>LGD 올레드TV 패널 눈 보호 국제인증 획득</td>\n",
       "      <td>20190701</td>\n",
       "      <td>디지털데일리 김도현기자 LG디스플레이의 유기발광다이오드 OLED 올레드 패널이 눈 ...</td>\n",
       "      <td>디지털데일리</td>\n",
       "    </tr>\n",
       "  </tbody>\n",
       "</table>\n",
       "</div>"
      ],
      "text/plain": [
       "                               headline      date  \\\n",
       "0  출시 앞둔 갤노트10 영상 유출…베젤 얇아지고 이어폰 단자 사라져  20190701   \n",
       "1              브릴라이트 메인넷 구축 완료…게임 연동 착수  20190701   \n",
       "2       5G 상용화 그 후 어디까지 왔을까 정부 확산 지표 발표  20190701   \n",
       "3     켐트로닉스 Tx·Rx 양날개로 車·모바일 무선충전 공략 강화  20190701   \n",
       "4             LGD 올레드TV 패널 눈 보호 국제인증 획득  20190701   \n",
       "\n",
       "                                             article   press  \n",
       "0  삼성전자 8월7일 미국 뉴욕서 갤럭시노트10 공개 유튜버 테크토크TV 갤럭시노트10...    한국경제  \n",
       "1  사전테스트 이후 정식 개관 암호화폐 지갑 ‘브링’도 공개 이데일리 노재웅 기자 한빛...    이데일리  \n",
       "2  AI 스피커 400만대 스마트공장 7903개… “4차 산업혁명 추진 상황 국민과 함...    한국일보  \n",
       "3  켐트로닉스가 삼성전기 무선충전 사업 인수를 마무리하고 모바일 무선충전 사업 영역을 ...    전자신문  \n",
       "4  디지털데일리 김도현기자 LG디스플레이의 유기발광다이오드 OLED 올레드 패널이 눈 ...  디지털데일리  "
      ]
     },
     "execution_count": 121,
     "metadata": {},
     "output_type": "execute_result"
    }
   ],
   "source": [
    "documnet.head()"
   ]
  },
  {
   "cell_type": "code",
   "execution_count": 122,
   "metadata": {},
   "outputs": [
    {
     "data": {
      "text/plain": [
       "300"
      ]
     },
     "execution_count": 122,
     "metadata": {},
     "output_type": "execute_result"
    }
   ],
   "source": [
    "len(documnet)"
   ]
  },
  {
   "cell_type": "code",
   "execution_count": 123,
   "metadata": {},
   "outputs": [],
   "source": [
    "textcopus = documnet.article"
   ]
  },
  {
   "cell_type": "code",
   "execution_count": 124,
   "metadata": {},
   "outputs": [
    {
     "data": {
      "text/plain": [
       "'무선 HMD만으로 고사양 게임 경험…연말까지 90여개 체험존 마련 서울 연합뉴스 채새롬 기자 5G 실감미디어 시장을 두고 이통사들의 경쟁이 치열하다. KT가 전날 4K 무선 VR 서비스 KT 슈퍼VR 을 출시한 데 이어 LG유플러스는 5G 클라우드 VR 게임 시장에 진출한다고 밝혔다. LG유플러스 5G 클라우드 VR 게임 LG유플러스 제공 LG유플러스는 2일 서울 용산 본사에서 기자간담회를 열고 5G 기반의 클라우드 VR 게임 서비스를 연내 상용화하겠다고 밝혔다. 클라우드를 활용하면 실제 게임은 클라우드 서버에서 실행되기 때문에 PC 및 게임 구동 디바이스 설치 등 복잡한 과정 없이 고사양 게임을 스트리밍으로 즐길 수 있다는 장점이 있다. 구글과 마이크로소프트도 클라우드 게임 서비스를 하반기 출시할 예정이다. LG유플러스는 이중에서도 몰입감 있는 VR 게임에 대한 수요가 높다고 판단했다. LG유플러스는 LTE 환경에서는 한정된 대역폭과 150Mbps 이하의 속도로 클라우드 VR 게임의 안정적인 운용이 불가능했지만 초저지연 특성을 가진 5G 네트워크 환경에서는 저사양 기기에서도 고품질 콘텐츠를 안정적으로 즐길 수 있다고 설명했다. 현재 VR 게임은 스마트폰을 카드보드형 HMD 디바이스에 삽입해 사용하거나 저사양 일체형 HMD로 즐기는 3DoF Degrees of Freedom 무선 VR 게임 고성능 PC와 공간 인식 센서 HMD 디바이스를 케이블로 연결해 즐기는 6DoF 유선 VR 게임으로 구분된다. 3DoF는 고정상태에서의 상하좌우를 인식하고 6DoF는 3DoF에 더해 몸 움직임까지 포함한다. LG유플러스는 5G 클라우드 VR 게임은 무선 HMD만으로 고사양 6DoF 게임을 스트리밍으로 즐길 수 있다 며 고가의 장비가 필요 없고 설치하는 데 불편도 없어 VR 게임 제약을 크게 줄일 것 이라고 설명했다. LG유플러스 5G 클라우드 VR 게임 LG유플러스 제공 LG유플러스는 이달 50개소를 시작으로 연말까지 전국 90여 직영점에 5G 클라우드 VR게임 체험존을 설치해 운영하고 연내 클라우드 VR 게임플랫폼을 상용화할 예정이다. 구체적인 플랫폼과 사업모델은 정해지지 않았다. HMD 단말과 콘텐츠를 월정액 구독형 서비스로 제공할 가능성이 크다. LG유플러스는 우선 아리조나션샤인 카운터파이트 인투더리듬 모탈블리츠 등 온라인 게임플랫폼 스팀의 PC VR게임 및 인기 VR 콘솔 게임 10여종을 1차로 제공하고 8월 말 20여종 이상으로 확대 서비스할 계획이다. 또 롯데월드 카카오VX와 제휴해 클라우드 VR 콘텐츠 공동 개발 및 플랫폼 제공에 협력하기로 했다. 다양한 연령층이 즐길 수 있는 VR 콘텐츠를 8월 이후 약 20여종 제공할 계획이다. LG유플러스는 롯데월드와의 제휴로 롯데월드 내에서 운영하는 어크로스 다크 후렌치레볼루션2 같은 콘텐츠를 확보할 예정이다. 카카오VX는 2017년 VR골프 온라인 을 개발했고 내년 하반기 카카오프렌즈 IP 지식재산권 를 기반으로 한 테마파크 컨셉 게임을 준비하고 있다. 김준형 5G서비스추진그룹장은 5G의 특성을 가장 잘 활용할 수 있는 클라우드 기반 서비스를 확대하고 연말까지 고객 수용도를 점검해 상용화하겠다 고 말했다.'"
      ]
     },
     "execution_count": 124,
     "metadata": {},
     "output_type": "execute_result"
    }
   ],
   "source": [
    "textcopus[5]"
   ]
  },
  {
   "cell_type": "markdown",
   "metadata": {},
   "source": [
    "## text preprocessing "
   ]
  },
  {
   "cell_type": "code",
   "execution_count": 13,
   "metadata": {},
   "outputs": [
    {
     "name": "stderr",
     "output_type": "stream",
     "text": [
      "C:\\Users\\eric\\Anaconda3\\lib\\site-packages\\jpype\\_core.py:210: UserWarning: \n",
      "-------------------------------------------------------------------------------\n",
      "Deprecated: convertStrings was not specified when starting the JVM. The default\n",
      "behavior in JPype will be False starting in JPype 0.8. The recommended setting\n",
      "for new code is convertStrings=False.  The legacy value of True was assumed for\n",
      "this session. If you are a user of an application that reported this warning,\n",
      "please file a ticket with the developer.\n",
      "-------------------------------------------------------------------------------\n",
      "\n",
      "  \"\"\")\n"
     ]
    }
   ],
   "source": [
    "from konlpy import jvm\n",
    "jvm.init_jvm()\n",
    "from konlpy.tag import Okt\n",
    "import warnings\n",
    "warnings.filterwarnings(action='ignore',category=UserWarning, module='konlpy')\n",
    "from collections import Counter"
   ]
  },
  {
   "cell_type": "code",
   "execution_count": 14,
   "metadata": {},
   "outputs": [],
   "source": [
    "def Okt_pos(df,extracted_pos,min_len=2):\n",
    "    article_list=df['article']\n",
    "    result=[]\n",
    "    for article in article_list:\n",
    "        pos_list = Okt.pos(article,stem=True, norm=False)\n",
    "        noun_list = [pos[0] for pos in pos_list if pos[1] in extracted_pos]\n",
    "        text = [word for word in noun_list if len(word)>=min_len]\n",
    "        result.append(text)\n",
    "    return result"
   ]
  },
  {
   "cell_type": "code",
   "execution_count": 15,
   "metadata": {},
   "outputs": [],
   "source": [
    "Okt = Okt()"
   ]
  },
  {
   "cell_type": "code",
   "execution_count": 125,
   "metadata": {},
   "outputs": [],
   "source": [
    "extracted_pos =['Noun']\n",
    "\n",
    "article_noun_unique = Okt_pos(documnet,extracted_pos, min_len=2)\n",
    "word_count = Counter([word for words in article_noun_unique for word in words])\n",
    "word_common = word_count.most_common()"
   ]
  },
  {
   "cell_type": "code",
   "execution_count": 126,
   "metadata": {},
   "outputs": [
    {
     "name": "stdout",
     "output_type": "stream",
     "text": [
      "[('서비스', 588), ('기술', 513), ('게임', 402), ('전자', 351), ('기업', 338), ('통해', 327), ('제공', 325), ('시장', 297), ('출시', 291), ('데이터', 284)]\n",
      "7756\n"
     ]
    }
   ],
   "source": [
    "print(word_common[:10])\n",
    "print(len(word_common))"
   ]
  },
  {
   "cell_type": "code",
   "execution_count": 18,
   "metadata": {},
   "outputs": [],
   "source": [
    "def remove_stop_words(article_noun, stop_word_list):\n",
    "    result= []\n",
    "    for article in article_noun:\n",
    "        article_ = [word for word in article if word not in stop_word_list]\n",
    "        result.append(article_)\n",
    "    return result"
   ]
  },
  {
   "cell_type": "code",
   "execution_count": 127,
   "metadata": {},
   "outputs": [],
   "source": [
    "stop_word_list= [\"통해\",\"위해\",\"관련\",\"기자\",\"이번\",\"때문\",\"라며\",\"대해\",\"한편\",\"또한\",\"통한\"]\n",
    "article_noun_unique = remove_stop_words(article_noun_unique, stop_word_list)\n",
    "\n",
    "news_list=[]\n",
    "for word_list in article_noun_unique:\n",
    "    news_list.append(','.join([word for word in word_list]))"
   ]
  },
  {
   "cell_type": "code",
   "execution_count": 128,
   "metadata": {},
   "outputs": [
    {
     "data": {
      "text/plain": [
       "'삼성,전자,미국,뉴욕,갤럭시,노트,공개,유튜버,테크,토크,갤럭시,노트,플러스,추정,영상,공개,베젤,축소,이어폰,단자,갤럭시,버즈,제공,예상,왼쪽,상단,카메라,세로,배열,상위,모델,명칭,프로,플러스,전망,김은지,유튜버,테크,토크,영상,갈무리,다음,공개,전자,하반기,야심작,갤럭시,노트,실물,유출,베젤,테두리,최소,이어폰,단자,자취,명칭,기존,노트,모델,적용,프로,플러스,전망,모바일,씨넷,외신,유튜브,채널,테크,토크,갤럭시,노트,플러스,추정,제품,영상,공개,베젤,전작,노트,전면,베젤,비교,측면,테두리,정도,베젤,크게,축소,디스플레이,내장,사운드,기술,적용,별도,통화,스피커,필요,풀이,이어폰,단자,전자,무선,이어폰,갤럭시,버즈,제공,업계,추측,전면,상단,중앙,싱글,카메라,위치,구멍,크기,다소,왼쪽,상단,카메라,세로,배열,공개,갤럭시,플러스,경우,전면,오른쪽,듀얼,카메라,상단,중앙,카메라,위치,갤럭시,노트,상위,모델,명칭,프로,플러스,플러스,갤럭시,시리즈,명칭,갤럭시,노트,갤럭시,처럼,세대,세대,이동통신,지원,모델,각각,출시,국내,버전,출시,갤럭시,노트,인치,인치,크기,디스플레이,탑재,인치,모델,플러스,명칭,가격,갤럭시,노트,이상,갤럭시,노트,가격,기가바이트,출시,갤럭시,노트,경우,일반,모델,플러스,모델,전망,전자,다음,미국,뉴욕,브루클린,바클레이스,센터,갤럭시,노트,공개,행사,갤럭시,노트,시리즈,공개,예정'"
      ]
     },
     "execution_count": 128,
     "metadata": {},
     "output_type": "execute_result"
    }
   ],
   "source": [
    "news_list[0]"
   ]
  },
  {
   "cell_type": "code",
   "execution_count": 129,
   "metadata": {},
   "outputs": [],
   "source": [
    "data = pd.DataFrame(news_list,columns=[\"text\"])"
   ]
  },
  {
   "cell_type": "code",
   "execution_count": 130,
   "metadata": {},
   "outputs": [
    {
     "data": {
      "text/html": [
       "<div>\n",
       "<style scoped>\n",
       "    .dataframe tbody tr th:only-of-type {\n",
       "        vertical-align: middle;\n",
       "    }\n",
       "\n",
       "    .dataframe tbody tr th {\n",
       "        vertical-align: top;\n",
       "    }\n",
       "\n",
       "    .dataframe thead th {\n",
       "        text-align: right;\n",
       "    }\n",
       "</style>\n",
       "<table border=\"1\" class=\"dataframe\">\n",
       "  <thead>\n",
       "    <tr style=\"text-align: right;\">\n",
       "      <th></th>\n",
       "      <th>text</th>\n",
       "    </tr>\n",
       "  </thead>\n",
       "  <tbody>\n",
       "    <tr>\n",
       "      <th>0</th>\n",
       "      <td>삼성,전자,미국,뉴욕,갤럭시,노트,공개,유튜버,테크,토크,갤럭시,노트,플러스,추정,...</td>\n",
       "    </tr>\n",
       "    <tr>\n",
       "      <th>1</th>\n",
       "      <td>사전,테스트,이후,정식,개관,암호,화폐,지갑,브링,공개,이데일리,노재웅,한빛소프트,...</td>\n",
       "    </tr>\n",
       "    <tr>\n",
       "      <th>2</th>\n",
       "      <td>스피커,스마트,공장,산업혁명,추진,상황,국민,공유,정부,세대,통신,상용,이후,가입자...</td>\n",
       "    </tr>\n",
       "    <tr>\n",
       "      <th>3</th>\n",
       "      <td>켐트,닉스,삼성,전기,무선,충전,사업,인수,마무리,모바일,무선,충전,사업,영역,수신...</td>\n",
       "    </tr>\n",
       "    <tr>\n",
       "      <th>4</th>\n",
       "      <td>디지털,일리,김도현,디스플레이,유기발광다이오드,레드,패널,보호,인증,디스플레이,대표...</td>\n",
       "    </tr>\n",
       "  </tbody>\n",
       "</table>\n",
       "</div>"
      ],
      "text/plain": [
       "                                                text\n",
       "0  삼성,전자,미국,뉴욕,갤럭시,노트,공개,유튜버,테크,토크,갤럭시,노트,플러스,추정,...\n",
       "1  사전,테스트,이후,정식,개관,암호,화폐,지갑,브링,공개,이데일리,노재웅,한빛소프트,...\n",
       "2  스피커,스마트,공장,산업혁명,추진,상황,국민,공유,정부,세대,통신,상용,이후,가입자...\n",
       "3  켐트,닉스,삼성,전기,무선,충전,사업,인수,마무리,모바일,무선,충전,사업,영역,수신...\n",
       "4  디지털,일리,김도현,디스플레이,유기발광다이오드,레드,패널,보호,인증,디스플레이,대표..."
      ]
     },
     "execution_count": 130,
     "metadata": {},
     "output_type": "execute_result"
    }
   ],
   "source": [
    "data.head()"
   ]
  },
  {
   "cell_type": "markdown",
   "metadata": {},
   "source": [
    "## data to node_edge for gephi"
   ]
  },
  {
   "cell_type": "code",
   "execution_count": 116,
   "metadata": {},
   "outputs": [
    {
     "data": {
      "text/html": [
       "<div>\n",
       "<style scoped>\n",
       "    .dataframe tbody tr th:only-of-type {\n",
       "        vertical-align: middle;\n",
       "    }\n",
       "\n",
       "    .dataframe tbody tr th {\n",
       "        vertical-align: top;\n",
       "    }\n",
       "\n",
       "    .dataframe thead th {\n",
       "        text-align: right;\n",
       "    }\n",
       "</style>\n",
       "<table border=\"1\" class=\"dataframe\">\n",
       "  <thead>\n",
       "    <tr style=\"text-align: right;\">\n",
       "      <th></th>\n",
       "      <th>count</th>\n",
       "      <th>id</th>\n",
       "    </tr>\n",
       "  </thead>\n",
       "  <tbody>\n",
       "    <tr>\n",
       "      <th>count</th>\n",
       "      <td>6901.000000</td>\n",
       "      <td>6901.000000</td>\n",
       "    </tr>\n",
       "    <tr>\n",
       "      <th>mean</th>\n",
       "      <td>4.564991</td>\n",
       "      <td>3450.000000</td>\n",
       "    </tr>\n",
       "    <tr>\n",
       "      <th>std</th>\n",
       "      <td>9.614347</td>\n",
       "      <td>1992.291436</td>\n",
       "    </tr>\n",
       "    <tr>\n",
       "      <th>min</th>\n",
       "      <td>1.000000</td>\n",
       "      <td>0.000000</td>\n",
       "    </tr>\n",
       "    <tr>\n",
       "      <th>25%</th>\n",
       "      <td>1.000000</td>\n",
       "      <td>1725.000000</td>\n",
       "    </tr>\n",
       "    <tr>\n",
       "      <th>50%</th>\n",
       "      <td>1.000000</td>\n",
       "      <td>3450.000000</td>\n",
       "    </tr>\n",
       "    <tr>\n",
       "      <th>75%</th>\n",
       "      <td>4.000000</td>\n",
       "      <td>5175.000000</td>\n",
       "    </tr>\n",
       "    <tr>\n",
       "      <th>max</th>\n",
       "      <td>137.000000</td>\n",
       "      <td>6900.000000</td>\n",
       "    </tr>\n",
       "  </tbody>\n",
       "</table>\n",
       "</div>"
      ],
      "text/plain": [
       "             count           id\n",
       "count  6901.000000  6901.000000\n",
       "mean      4.564991  3450.000000\n",
       "std       9.614347  1992.291436\n",
       "min       1.000000     0.000000\n",
       "25%       1.000000  1725.000000\n",
       "50%       1.000000  3450.000000\n",
       "75%       4.000000  5175.000000\n",
       "max     137.000000  6900.000000"
      ]
     },
     "execution_count": 116,
     "metadata": {},
     "output_type": "execute_result"
    }
   ],
   "source": [
    "node_list.describe()"
   ]
  },
  {
   "cell_type": "code",
   "execution_count": 131,
   "metadata": {},
   "outputs": [
    {
     "name": "stdout",
     "output_type": "stream",
     "text": [
      "Execution_time : 8.10347318649292\n",
      "   label  count  id\n",
      "0     무선     21   0\n",
      "1  기가바이트      5   1\n",
      "2     제품     66   2\n",
      "3     경우     59   3\n",
      "4    갤럭시     37   4\n",
      "       Source_Label Target_Label  weight  Source  Target        Type\n",
      "127304           가가           가격       5    1646      80  Undirected\n",
      "127289           가가          가입자       2    1646     108  Undirected\n",
      "127255           가가           가지       1    1646     453  Undirected\n",
      "127228           가가           감지       1    1646    1166  Undirected\n",
      "90034            가가           강변       2    1646    3718  Undirected\n"
     ]
    }
   ],
   "source": [
    "import csv\n",
    "import time\n",
    "import itertools\n",
    "import numpy as np\n",
    "# node edge\n",
    "def MakingEdgeNodelist(keyword_vec,sep_sign):\n",
    "    # (1) Keyword list (data set for combination)\n",
    "    keywords_list =[]\n",
    "    for words in keyword_vec:\n",
    "        #print(\"words :\", words)\n",
    "        split_words = words.split(sep_sign) # sep_sign으로 구분된 데이터를 분리하여\n",
    "        split_words = [ x.replace(\" \",\"\") for x in split_words]  # 리스트로 저장\n",
    "        soted_words = sorted(split_words) # ordering\n",
    "        keywords_list.append(soted_words)\n",
    "\n",
    "    # (2) Combination\n",
    "    comb_list = []\n",
    "    for i in keywords_list:\n",
    "        for subset in itertools.combinations(i, 2):\n",
    "            if subset[0] != subset[1]: # 같은 단어의 컴비네이션 제외\n",
    "                comb_list.append(subset)\n",
    "\n",
    "    # (3) Make dict & count\n",
    "    comb_count = {}\n",
    "    for combi in comb_list:\n",
    "        comb_count[combi] = comb_count.get(combi,0)+1\n",
    "\n",
    "    # (4) dic to df\n",
    "    comb_df = pd.DataFrame()\n",
    "\n",
    "    ## (4-1) dic_key to list\n",
    "    comb_keylist = []\n",
    "    for key in comb_count.keys():\n",
    "        combkey_tolist = list(key)\n",
    "        comb_keylist.append(combkey_tolist)\n",
    "\n",
    "    ## (4-2) dic_key split\n",
    "    source_list = []\n",
    "    target_list = []\n",
    "    for i in range(len(comb_keylist)):\n",
    "        source = comb_keylist[i][0]\n",
    "        target = comb_keylist[i][1]\n",
    "\n",
    "        source_list.append(source)\n",
    "        target_list.append(target)\n",
    "\n",
    "    comb_df['Source_Label'] = source_list\n",
    "    comb_df['Target_Label'] = target_list\n",
    "    comb_df['weight'] = comb_count.values()\n",
    "    \n",
    "\n",
    "    comb_df = comb_df.sort_values('Source_Label',axis=0).reset_index(drop=True)\n",
    "\n",
    "    # (5) node data\n",
    "    total_tech_list = []\n",
    "    for tech_li in keywords_list:\n",
    "        tech = list(set(tech_li))\n",
    "        total_tech_list.extend(tech)\n",
    "    # node_data = pd.concat([comb_df['Source_Label'],comb_df['Target_Label']],axis=0) # 총 출현 기술 ; 잘못됨을 확인함\n",
    "\n",
    "    node_df = pd.DataFrame()\n",
    "\n",
    "    node_count = {}\n",
    "    for node in total_tech_list:\n",
    "        node_count[node] = node_count.get(node,0)+1\n",
    "\n",
    "    node_df['label'] = node_count.keys()\n",
    "    node_df['count'] = node_count.values()\n",
    "    node_df['id'] = node_df.index\n",
    "    \n",
    "\n",
    "    # (6) make id\n",
    "    node_id = node_df[['label','id']]\n",
    "    node_id.columns = ['Source_Label','Source']\n",
    "\n",
    "    merge_sid = pd.merge(comb_df,node_id,how = 'inner')\n",
    "\n",
    "    node_id.columns = ['Target_Label','Target']\n",
    "\n",
    "    merge_tid = pd.merge(merge_sid,node_id,how = 'inner') # merge 과정에서 순서가 바뀜\n",
    "\n",
    "    edge_df = merge_tid.sort_values(['Source_Label','Target_Label'])\n",
    "\n",
    "    edge_df['Type'] = ['Undirected']*len(edge_df)\n",
    "\n",
    "    #edge_cols = ['Source','Target','weight','Type','Source_Label','Target_Label']\n",
    "    #edgelist = edgelist[edge_cols]\n",
    "\n",
    "    return(edge_df,node_df)\n",
    "\n",
    "\n",
    "# ipc 개수 2 이상인 데이터 필터링\n",
    "cpc_len = [ len(x.split(\",\")) for x in data.text]\n",
    "\n",
    "data['cpc_len'] = cpc_len\n",
    "\n",
    "dataset = data.loc[data.cpc_len>1] # , 로 구분되니 한개짜리는 떨군다.\n",
    "\n",
    "# edge / node list\n",
    "edge_list = pd.DataFrame()\n",
    "node_list = pd.DataFrame()\n",
    "\n",
    "s_time = time.time()\n",
    "#타임시리즈와다르게for문이필요가없다.\n",
    "doc = dataset['text']\n",
    "\n",
    "edge_part,node_part = MakingEdgeNodelist(doc,',')\n",
    "\n",
    "edge_list = pd.concat([edge_list,edge_part],axis=0)\n",
    "\n",
    "node_list = pd.concat([node_list,node_part],axis=0)\n",
    "    \n",
    "e_time = time.time()\n",
    "print(\"Execution_time :\",e_time - s_time)\n",
    "\n",
    "#\n",
    "print(node_list.head())\n",
    "print(edge_list.head())"
   ]
  },
  {
   "cell_type": "code",
   "execution_count": 133,
   "metadata": {},
   "outputs": [
    {
     "data": {
      "text/plain": [
       "1471"
      ]
     },
     "execution_count": 133,
     "metadata": {},
     "output_type": "execute_result"
    }
   ],
   "source": [
    "len(edge_list)"
   ]
  },
  {
   "cell_type": "code",
   "execution_count": 132,
   "metadata": {},
   "outputs": [],
   "source": [
    "edge_list=edge_list[edge_list['weight']>200]\n",
    "node_list=node_list[node_list['count']>4]"
   ]
  },
  {
   "cell_type": "code",
   "execution_count": 134,
   "metadata": {},
   "outputs": [],
   "source": [
    "node_list.to_csv(\"node_list_2019_sec.csv\",index=False)\n",
    "edge_list.to_csv(\"edge_list_2019_sec.csv\",index=False)"
   ]
  },
  {
   "cell_type": "code",
   "execution_count": null,
   "metadata": {},
   "outputs": [],
   "source": []
  }
 ],
 "metadata": {
  "kernelspec": {
   "display_name": "Python 3",
   "language": "python",
   "name": "python3"
  },
  "language_info": {
   "codemirror_mode": {
    "name": "ipython",
    "version": 3
   },
   "file_extension": ".py",
   "mimetype": "text/x-python",
   "name": "python",
   "nbconvert_exporter": "python",
   "pygments_lexer": "ipython3",
   "version": "3.6.9"
  }
 },
 "nbformat": 4,
 "nbformat_minor": 4
}
